{
 "cells": [
  {
   "cell_type": "markdown",
   "id": "7433aebe",
   "metadata": {},
   "source": [
    "### Library Import하기"
   ]
  },
  {
   "cell_type": "code",
   "execution_count": 225,
   "id": "d394e6fa",
   "metadata": {},
   "outputs": [],
   "source": [
    "import matplotlib.pyplot as plt\n",
    "from matplotlib import font_manager, rc\n",
    "import platform\n",
    "\n",
    "# 한글 폰트 설정\n",
    "if platform.system() == 'Windows':\n",
    "    font_name = font_manager.FontProperties(fname=\"C:/Windows/Fonts/malgun.ttf\").get_name()\n",
    "    rc('font', family=font_name)\n",
    "elif platform.system() == 'Darwin':  # macOS\n",
    "    rc('font', family='AppleGothic')\n",
    "else:  # Linux\n",
    "    rc('font', family='NanumGothic')\n",
    "\n",
    "# 음수 기호 깨짐 방지\n",
    "plt.rcParams['axes.unicode_minus'] = False\n",
    "\n",
    "import seaborn as sns\n",
    "\n",
    "# utils\n",
    "import pandas as pd\n",
    "import numpy as np\n",
    "from tqdm import tqdm\n",
    "import pickle\n",
    "import warnings;warnings.filterwarnings('ignore')\n",
    "\n",
    "# Model\n",
    "from sklearn.preprocessing import LabelEncoder\n",
    "from sklearn.model_selection import train_test_split\n",
    "from sklearn.metrics import mean_squared_error\n",
    "from sklearn.ensemble import RandomForestRegressor\n",
    "from sklearn import metrics\n",
    "\n",
    "import eli5\n",
    "from eli5.sklearn import PermutationImportance\n"
   ]
  },
  {
   "cell_type": "markdown",
   "id": "e01db791",
   "metadata": {},
   "source": [
    "# 데이터 로드"
   ]
  },
  {
   "cell_type": "markdown",
   "id": "4d2225bb",
   "metadata": {},
   "source": [
    "## 기존 데이터"
   ]
  },
  {
   "cell_type": "code",
   "execution_count": 226,
   "id": "92b36ffc",
   "metadata": {},
   "outputs": [],
   "source": [
    "train_path = r'C:\\Users\\subon\\Downloads\\data\\train.csv'\n",
    "test_path  = r'C:\\Users\\subon\\Downloads\\data\\test.csv'\n",
    "dt = pd.read_csv(train_path)\n",
    "dt_test = pd.read_csv(test_path)"
   ]
  },
  {
   "cell_type": "markdown",
   "id": "0f5f005c",
   "metadata": {},
   "source": [
    "## 추가 데이터"
   ]
  },
  {
   "cell_type": "code",
   "execution_count": 227,
   "id": "414694fc",
   "metadata": {},
   "outputs": [],
   "source": [
    "# 버스, 지하철\n",
    "bus_path = r'C:\\Users\\subon\\Downloads\\data\\bus_feature.csv'\n",
    "subway_path = r'C:\\Users\\subon\\Downloads\\data\\subway_feature.csv'\n",
    "dt_bus = pd.read_csv(bus_path)\n",
    "dt_subway = pd.read_csv(subway_path)"
   ]
  },
  {
   "cell_type": "code",
   "execution_count": 228,
   "id": "8dddcd6d",
   "metadata": {},
   "outputs": [],
   "source": [
    "# 기준 금리\n",
    "base_rate = r'C:\\Users\\subon\\Downloads\\base_rate.xlsx'\n",
    "dt_rate = pd.read_excel(base_rate, header=None)"
   ]
  },
  {
   "cell_type": "code",
   "execution_count": 229,
   "id": "0f87c523",
   "metadata": {},
   "outputs": [
    {
     "data": {
      "text/plain": [
       "((12584, 6), (768, 5))"
      ]
     },
     "execution_count": 229,
     "metadata": {},
     "output_type": "execute_result"
    }
   ],
   "source": [
    "dt_bus.shape, dt_subway.shape"
   ]
  },
  {
   "cell_type": "markdown",
   "id": "0f4983b7",
   "metadata": {},
   "source": [
    "# 데이터 확인"
   ]
  },
  {
   "cell_type": "markdown",
   "id": "9ad5d20d",
   "metadata": {},
   "source": [
    "- Test, Train 데이터 나누기"
   ]
  },
  {
   "cell_type": "code",
   "execution_count": 230,
   "id": "ac578cf1",
   "metadata": {},
   "outputs": [],
   "source": [
    "dt['is_test']=0\n",
    "dt_test['is_test']=1\n",
    "concat = pd.concat([dt, dt_test])"
   ]
  },
  {
   "cell_type": "code",
   "execution_count": null,
   "id": "e5eb673a",
   "metadata": {
    "scrolled": true
   },
   "outputs": [],
   "source": []
  },
  {
   "cell_type": "code",
   "execution_count": null,
   "id": "38827204",
   "metadata": {
    "scrolled": true
   },
   "outputs": [],
   "source": []
  },
  {
   "cell_type": "code",
   "execution_count": null,
   "id": "11fe6d8a",
   "metadata": {},
   "outputs": [],
   "source": [
    "\n"
   ]
  },
  {
   "cell_type": "markdown",
   "id": "3a3ae977",
   "metadata": {},
   "source": [
    "## 컬럼 일부 수정"
   ]
  },
  {
   "cell_type": "code",
   "execution_count": 231,
   "id": "90b172a4",
   "metadata": {},
   "outputs": [],
   "source": [
    "concat = concat.rename(columns={'전용면적(㎡)':'전용면적'})"
   ]
  },
  {
   "cell_type": "code",
   "execution_count": null,
   "id": "3ea75ca8",
   "metadata": {},
   "outputs": [],
   "source": []
  },
  {
   "cell_type": "markdown",
   "id": "6409bcb5",
   "metadata": {},
   "source": [
    "# 데이터 전처리"
   ]
  },
  {
   "cell_type": "markdown",
   "id": "c1a5b1d0",
   "metadata": {},
   "source": [
    "- 결측치 확인"
   ]
  },
  {
   "cell_type": "code",
   "execution_count": 232,
   "id": "29bc402d",
   "metadata": {
    "scrolled": true
   },
   "outputs": [
    {
     "data": {
      "text/plain": [
       "시군구                             0\n",
       "번지                            227\n",
       "본번                             75\n",
       "부번                             75\n",
       "아파트명                         2136\n",
       "전용면적                            0\n",
       "계약년월                            0\n",
       "계약일                             0\n",
       "층                               0\n",
       "건축년도                            0\n",
       "도로명                             0\n",
       "해제사유발생일                   1121899\n",
       "등기신청일자                          0\n",
       "거래유형                            0\n",
       "중개사소재지                          0\n",
       "k-단지분류(아파트,주상복합등등)         877273\n",
       "k-전화번호                     876850\n",
       "k-팩스번호                     879348\n",
       "단지소개기존clob                1058958\n",
       "k-세대타입(분양형태)               876125\n",
       "k-관리방식                     876125\n",
       "k-복도유형                     876454\n",
       "k-난방방식                     876125\n",
       "k-전체동수                     877207\n",
       "k-전체세대수                    876125\n",
       "k-건설사(시공사)                 877637\n",
       "k-시행사                      877834\n",
       "k-사용검사일-사용승인일              876259\n",
       "k-연면적                      876125\n",
       "k-주거전용면적                   876170\n",
       "k-관리비부과면적                  876125\n",
       "k-전용면적별세대현황(60㎡이하)         876170\n",
       "k-전용면적별세대현황(60㎡~85㎡이하)     876170\n",
       "k-85㎡~135㎡이하               876170\n",
       "k-135㎡초과                  1127765\n",
       "k-홈페이지                    1013523\n",
       "k-등록일자                    1116386\n",
       "k-수정일자                     876170\n",
       "고용보험관리번호                   920757\n",
       "경비비관리형태                    877561\n",
       "세대전기계약방법                   885389\n",
       "청소비관리형태                    877751\n",
       "건축면적                       876279\n",
       "주차대수                       876277\n",
       "기타/의무/임대/임의=1/2/3/4        876125\n",
       "단지승인일                      876854\n",
       "사용허가여부                     876125\n",
       "관리비 업로드                    876125\n",
       "좌표X                        876232\n",
       "좌표Y                        876232\n",
       "단지신청일                      876187\n",
       "target                       9272\n",
       "is_test                         0\n",
       "dtype: int64"
      ]
     },
     "execution_count": 232,
     "metadata": {},
     "output_type": "execute_result"
    }
   ],
   "source": [
    "concat.isnull().sum()"
   ]
  },
  {
   "cell_type": "markdown",
   "id": "0f45a033",
   "metadata": {},
   "source": [
    "- x,y 좌표 결측치 채우기"
   ]
  },
  {
   "cell_type": "code",
   "execution_count": 233,
   "id": "6b288186",
   "metadata": {},
   "outputs": [],
   "source": [
    "xy_path = r'C:\\Users\\subon\\Downloads\\xycoord.csv'\n",
    "dt_xy = pd.read_csv(xy_path, encoding='cp949')"
   ]
  },
  {
   "cell_type": "code",
   "execution_count": 234,
   "id": "eb26700f",
   "metadata": {},
   "outputs": [],
   "source": [
    "#시군구와 번지를 기준으로 concat와 dt_xy를 병합\n",
    "merged_df = pd.merge(concat, dt_xy[['시군구', '번지', 'x', 'y']], how='left', on=['시군구', '번지'])\n",
    "\n",
    "#좌표X와 좌표Y가 결측치인 경우에만 dt_xy에서 가져온 x,y값으로 채우기\n",
    "concat['좌표X'].fillna(merged_df['x'], inplace=True)\n",
    "concat['좌표Y'].fillna(merged_df['y'], inplace=True)"
   ]
  },
  {
   "cell_type": "code",
   "execution_count": 235,
   "id": "e07f874e",
   "metadata": {},
   "outputs": [
    {
     "data": {
      "text/plain": [
       "시군구                             0\n",
       "번지                            227\n",
       "본번                             75\n",
       "부번                             75\n",
       "아파트명                         2136\n",
       "전용면적                            0\n",
       "계약년월                            0\n",
       "계약일                             0\n",
       "층                               0\n",
       "건축년도                            0\n",
       "도로명                             0\n",
       "해제사유발생일                   1121899\n",
       "등기신청일자                          0\n",
       "거래유형                            0\n",
       "중개사소재지                          0\n",
       "k-단지분류(아파트,주상복합등등)         877273\n",
       "k-전화번호                     876850\n",
       "k-팩스번호                     879348\n",
       "단지소개기존clob                1058958\n",
       "k-세대타입(분양형태)               876125\n",
       "k-관리방식                     876125\n",
       "k-복도유형                     876454\n",
       "k-난방방식                     876125\n",
       "k-전체동수                     877207\n",
       "k-전체세대수                    876125\n",
       "k-건설사(시공사)                 877637\n",
       "k-시행사                      877834\n",
       "k-사용검사일-사용승인일              876259\n",
       "k-연면적                      876125\n",
       "k-주거전용면적                   876170\n",
       "k-관리비부과면적                  876125\n",
       "k-전용면적별세대현황(60㎡이하)         876170\n",
       "k-전용면적별세대현황(60㎡~85㎡이하)     876170\n",
       "k-85㎡~135㎡이하               876170\n",
       "k-135㎡초과                  1127765\n",
       "k-홈페이지                    1013523\n",
       "k-등록일자                    1116386\n",
       "k-수정일자                     876170\n",
       "고용보험관리번호                   920757\n",
       "경비비관리형태                    877561\n",
       "세대전기계약방법                   885389\n",
       "청소비관리형태                    877751\n",
       "건축면적                       876279\n",
       "주차대수                       876277\n",
       "기타/의무/임대/임의=1/2/3/4        876125\n",
       "단지승인일                      876854\n",
       "사용허가여부                     876125\n",
       "관리비 업로드                    876125\n",
       "좌표X                         18548\n",
       "좌표Y                         18548\n",
       "단지신청일                      876187\n",
       "target                       9272\n",
       "is_test                         0\n",
       "dtype: int64"
      ]
     },
     "execution_count": 235,
     "metadata": {},
     "output_type": "execute_result"
    }
   ],
   "source": [
    "concat.isnull().sum()"
   ]
  },
  {
   "cell_type": "code",
   "execution_count": null,
   "id": "f8418870",
   "metadata": {},
   "outputs": [],
   "source": []
  },
  {
   "cell_type": "markdown",
   "id": "6170a42d",
   "metadata": {},
   "source": [
    "- 필요없는 컬럼 삭제"
   ]
  },
  {
   "cell_type": "code",
   "execution_count": 236,
   "id": "0c0c90c2",
   "metadata": {},
   "outputs": [],
   "source": [
    "# 첫 글자가 'k'로 시작하는 열 삭제\n",
    "cols_to_drop = [col for col in concat.columns if col.startswith('k')]\n",
    "concat.drop(columns=cols_to_drop, inplace=True)"
   ]
  },
  {
   "cell_type": "markdown",
   "id": "a4e0830e",
   "metadata": {},
   "source": [
    "- 필요한 컬럼만 select"
   ]
  },
  {
   "cell_type": "code",
   "execution_count": 237,
   "id": "35ec4c30",
   "metadata": {},
   "outputs": [],
   "source": [
    "#남길 열들의 리스트\n",
    "columns_to_keep = ['시군구','아파트명', '전용면적', '계약년월', '층','건축년도','도로명','건축면적', '주차대수', '좌표X', '좌표Y', 'target','is_test']\n",
    "\n",
    "#해당 열들만 남기고 나머지 열 삭제\n",
    "concat = concat[columns_to_keep]"
   ]
  },
  {
   "cell_type": "code",
   "execution_count": 238,
   "id": "c03d4ed0",
   "metadata": {},
   "outputs": [
    {
     "name": "stdout",
     "output_type": "stream",
     "text": [
      "<class 'pandas.core.frame.DataFrame'>\n",
      "Int64Index: 1128094 entries, 0 to 9271\n",
      "Data columns (total 13 columns):\n",
      " #   Column   Non-Null Count    Dtype  \n",
      "---  ------   --------------    -----  \n",
      " 0   시군구      1128094 non-null  object \n",
      " 1   아파트명     1125958 non-null  object \n",
      " 2   전용면적     1128094 non-null  float64\n",
      " 3   계약년월     1128094 non-null  int64  \n",
      " 4   층        1128094 non-null  int64  \n",
      " 5   건축년도     1128094 non-null  int64  \n",
      " 6   도로명      1128094 non-null  object \n",
      " 7   건축면적     251815 non-null   float64\n",
      " 8   주차대수     251817 non-null   float64\n",
      " 9   좌표X      1109546 non-null  float64\n",
      " 10  좌표Y      1109546 non-null  float64\n",
      " 11  target   1118822 non-null  float64\n",
      " 12  is_test  1128094 non-null  int64  \n",
      "dtypes: float64(6), int64(4), object(3)\n",
      "memory usage: 120.5+ MB\n"
     ]
    }
   ],
   "source": [
    "concat.info()"
   ]
  },
  {
   "cell_type": "code",
   "execution_count": null,
   "id": "89116e22",
   "metadata": {},
   "outputs": [],
   "source": []
  },
  {
   "cell_type": "markdown",
   "id": "459a9f15",
   "metadata": {},
   "source": []
  },
  {
   "cell_type": "code",
   "execution_count": null,
   "id": "261d9834",
   "metadata": {},
   "outputs": [],
   "source": []
  },
  {
   "cell_type": "code",
   "execution_count": null,
   "id": "9b0df098",
   "metadata": {},
   "outputs": [],
   "source": []
  },
  {
   "cell_type": "markdown",
   "id": "abe01536",
   "metadata": {},
   "source": [
    "# Feature Engineering"
   ]
  },
  {
   "cell_type": "markdown",
   "id": "81eabc97",
   "metadata": {},
   "source": [
    "### '구'와 '동' 분리"
   ]
  },
  {
   "cell_type": "code",
   "execution_count": 239,
   "id": "3b82eb2c",
   "metadata": {},
   "outputs": [
    {
     "data": {
      "text/html": [
       "<div>\n",
       "<style scoped>\n",
       "    .dataframe tbody tr th:only-of-type {\n",
       "        vertical-align: middle;\n",
       "    }\n",
       "\n",
       "    .dataframe tbody tr th {\n",
       "        vertical-align: top;\n",
       "    }\n",
       "\n",
       "    .dataframe thead th {\n",
       "        text-align: right;\n",
       "    }\n",
       "</style>\n",
       "<table border=\"1\" class=\"dataframe\">\n",
       "  <thead>\n",
       "    <tr style=\"text-align: right;\">\n",
       "      <th></th>\n",
       "      <th>아파트명</th>\n",
       "      <th>전용면적</th>\n",
       "      <th>계약년월</th>\n",
       "      <th>층</th>\n",
       "      <th>도로명</th>\n",
       "      <th>건축면적</th>\n",
       "      <th>주차대수</th>\n",
       "      <th>좌표X</th>\n",
       "      <th>좌표Y</th>\n",
       "      <th>target</th>\n",
       "      <th>is_test</th>\n",
       "      <th>구</th>\n",
       "      <th>동</th>\n",
       "      <th>계약연도</th>\n",
       "      <th>구매당시 아파트 나이</th>\n",
       "    </tr>\n",
       "  </thead>\n",
       "  <tbody>\n",
       "    <tr>\n",
       "      <th>0</th>\n",
       "      <td>개포6차우성</td>\n",
       "      <td>79.97</td>\n",
       "      <td>201712</td>\n",
       "      <td>3</td>\n",
       "      <td>언주로 3</td>\n",
       "      <td>4858.0</td>\n",
       "      <td>262.0</td>\n",
       "      <td>127.05721</td>\n",
       "      <td>37.476763</td>\n",
       "      <td>124000.0</td>\n",
       "      <td>0</td>\n",
       "      <td>강남구</td>\n",
       "      <td>개포동</td>\n",
       "      <td>2017</td>\n",
       "      <td>30</td>\n",
       "    </tr>\n",
       "    <tr>\n",
       "      <th>1</th>\n",
       "      <td>개포6차우성</td>\n",
       "      <td>79.97</td>\n",
       "      <td>201712</td>\n",
       "      <td>4</td>\n",
       "      <td>언주로 3</td>\n",
       "      <td>4858.0</td>\n",
       "      <td>262.0</td>\n",
       "      <td>127.05721</td>\n",
       "      <td>37.476763</td>\n",
       "      <td>123500.0</td>\n",
       "      <td>0</td>\n",
       "      <td>강남구</td>\n",
       "      <td>개포동</td>\n",
       "      <td>2017</td>\n",
       "      <td>30</td>\n",
       "    </tr>\n",
       "    <tr>\n",
       "      <th>2</th>\n",
       "      <td>개포6차우성</td>\n",
       "      <td>54.98</td>\n",
       "      <td>201712</td>\n",
       "      <td>5</td>\n",
       "      <td>언주로 3</td>\n",
       "      <td>4858.0</td>\n",
       "      <td>262.0</td>\n",
       "      <td>127.05721</td>\n",
       "      <td>37.476763</td>\n",
       "      <td>91500.0</td>\n",
       "      <td>0</td>\n",
       "      <td>강남구</td>\n",
       "      <td>개포동</td>\n",
       "      <td>2017</td>\n",
       "      <td>30</td>\n",
       "    </tr>\n",
       "    <tr>\n",
       "      <th>3</th>\n",
       "      <td>개포6차우성</td>\n",
       "      <td>79.97</td>\n",
       "      <td>201801</td>\n",
       "      <td>4</td>\n",
       "      <td>언주로 3</td>\n",
       "      <td>4858.0</td>\n",
       "      <td>262.0</td>\n",
       "      <td>127.05721</td>\n",
       "      <td>37.476763</td>\n",
       "      <td>130000.0</td>\n",
       "      <td>0</td>\n",
       "      <td>강남구</td>\n",
       "      <td>개포동</td>\n",
       "      <td>2018</td>\n",
       "      <td>31</td>\n",
       "    </tr>\n",
       "    <tr>\n",
       "      <th>4</th>\n",
       "      <td>개포6차우성</td>\n",
       "      <td>79.97</td>\n",
       "      <td>201801</td>\n",
       "      <td>2</td>\n",
       "      <td>언주로 3</td>\n",
       "      <td>4858.0</td>\n",
       "      <td>262.0</td>\n",
       "      <td>127.05721</td>\n",
       "      <td>37.476763</td>\n",
       "      <td>117000.0</td>\n",
       "      <td>0</td>\n",
       "      <td>강남구</td>\n",
       "      <td>개포동</td>\n",
       "      <td>2018</td>\n",
       "      <td>31</td>\n",
       "    </tr>\n",
       "  </tbody>\n",
       "</table>\n",
       "</div>"
      ],
      "text/plain": [
       "     아파트명   전용면적    계약년월  층    도로명    건축면적   주차대수        좌표X        좌표Y  \\\n",
       "0  개포6차우성  79.97  201712  3  언주로 3  4858.0  262.0  127.05721  37.476763   \n",
       "1  개포6차우성  79.97  201712  4  언주로 3  4858.0  262.0  127.05721  37.476763   \n",
       "2  개포6차우성  54.98  201712  5  언주로 3  4858.0  262.0  127.05721  37.476763   \n",
       "3  개포6차우성  79.97  201801  4  언주로 3  4858.0  262.0  127.05721  37.476763   \n",
       "4  개포6차우성  79.97  201801  2  언주로 3  4858.0  262.0  127.05721  37.476763   \n",
       "\n",
       "     target  is_test    구    동  계약연도  구매당시 아파트 나이  \n",
       "0  124000.0        0  강남구  개포동  2017           30  \n",
       "1  123500.0        0  강남구  개포동  2017           30  \n",
       "2   91500.0        0  강남구  개포동  2017           30  \n",
       "3  130000.0        0  강남구  개포동  2018           31  \n",
       "4  117000.0        0  강남구  개포동  2018           31  "
      ]
     },
     "execution_count": 239,
     "metadata": {},
     "output_type": "execute_result"
    }
   ],
   "source": [
    "#print(concat['시군구'])\n",
    "\n",
    "#'시군구'에서 '서울특별시' 제거, '구'와 '동'으로 나누기\n",
    "concat['구'] = concat['시군구'].str.split(' ').str[1]  # '구' 부분 추출\n",
    "concat['동'] = concat['시군구'].str.split(' ').str[2]  # '동' 부분 추출\n",
    "\n",
    "# 2. '계약년월'에서 연도 추출 후 건축년도와의 차이를 계산하여 '구매당시 아파트 나이' 열 추가\n",
    "concat['계약연도'] = concat['계약년월'].astype(str).str[:4].astype(int)  # 계약년월에서 연도만 추출\n",
    "concat['구매당시 아파트 나이'] = concat['계약연도'] - concat['건축년도']  # 건축년도와의 차이 계산\n",
    "\n",
    "concat.drop(columns=['시군구','건축년도'], inplace=True)\n",
    "\n",
    "# 결과 확인\n",
    "concat.head(5)"
   ]
  },
  {
   "cell_type": "code",
   "execution_count": null,
   "id": "3ed88b62",
   "metadata": {},
   "outputs": [],
   "source": []
  },
  {
   "cell_type": "markdown",
   "id": "a7bbad48",
   "metadata": {},
   "source": [
    "### 기준금리"
   ]
  },
  {
   "cell_type": "markdown",
   "id": "b8a37d37",
   "metadata": {},
   "source": [
    "- 계약년월에 맞게 기준금리 값 추가하기"
   ]
  },
  {
   "cell_type": "code",
   "execution_count": 240,
   "id": "582d1a33",
   "metadata": {},
   "outputs": [
    {
     "name": "stdout",
     "output_type": "stream",
     "text": [
      "        날짜  기준금리\n",
      "0  200701월  4.50\n",
      "1  200702월  4.50\n",
      "2  200703월  4.50\n",
      "3  200704월  4.50\n",
      "4  200705월  4.50\n"
     ]
    }
   ],
   "source": [
    "#첫 번째 행을 '날짜', 두 번째 행을 '기준금리'로 변환\n",
    "dt_rate = pd.DataFrame({\n",
    "    '날짜' : dt_rate.iloc[0, :].values, #세로로 변환\n",
    "    '기준금리' : dt_rate.iloc[1, :].values\n",
    "})\n",
    "\n",
    "dt_rate.reset_index(drop=True, inplace=True)\n",
    "\n",
    "print(dt_rate.head())"
   ]
  },
  {
   "cell_type": "code",
   "execution_count": 241,
   "id": "bd0637b0",
   "metadata": {},
   "outputs": [],
   "source": [
    "#날짜에서 '월' 지우기\n",
    "dt_rate['날짜']=dt_rate['날짜'].str.replace('월','')"
   ]
  },
  {
   "cell_type": "code",
   "execution_count": 242,
   "id": "b78a11ec",
   "metadata": {},
   "outputs": [
    {
     "name": "stdout",
     "output_type": "stream",
     "text": [
      "     아파트명   전용면적    계약년월  층    도로명    건축면적   주차대수        좌표X        좌표Y  \\\n",
      "0  개포6차우성  79.97  201712  3  언주로 3  4858.0  262.0  127.05721  37.476763   \n",
      "1  개포6차우성  79.97  201712  4  언주로 3  4858.0  262.0  127.05721  37.476763   \n",
      "2  개포6차우성  54.98  201712  5  언주로 3  4858.0  262.0  127.05721  37.476763   \n",
      "3  개포6차우성  79.97  201801  4  언주로 3  4858.0  262.0  127.05721  37.476763   \n",
      "4  개포6차우성  79.97  201801  2  언주로 3  4858.0  262.0  127.05721  37.476763   \n",
      "\n",
      "     target  is_test    구    동  계약연도  구매당시 아파트 나이  기준금리  \n",
      "0  124000.0        0  강남구  개포동  2017           30   1.5  \n",
      "1  123500.0        0  강남구  개포동  2017           30   1.5  \n",
      "2   91500.0        0  강남구  개포동  2017           30   1.5  \n",
      "3  130000.0        0  강남구  개포동  2018           31   1.5  \n",
      "4  117000.0        0  강남구  개포동  2018           31   1.5  \n",
      "기준금리 결측치 수: 0\n"
     ]
    }
   ],
   "source": [
    "#데이터타입 일치시키기\n",
    "dt_rate['날짜'] = dt_rate['날짜'].astype(int)\n",
    "concat['계약년월'] = concat['계약년월'].astype(int)\n",
    "\n",
    "# 병합 과정에서 누락되는 것을 방지하기 위해, 계약년월과 기준금리가 일치하는지 직접 확인하는 방식으로 병합\n",
    "concat['기준금리'] = concat['계약년월'].map(dt_rate.set_index('날짜')['기준금리'])\n",
    "\n",
    "#날짜 컬럼 제거\n",
    "#concat.drop(columns='날짜', inplace=True)\n",
    "\n",
    "#기준금리 데이터타입 변환\n",
    "concat['기준금리']= concat['기준금리'].astype(float)\n",
    "\n",
    "#결과 출력\n",
    "print(concat.head(5))\n",
    "\n",
    "# 결측치 확인\n",
    "print(f\"기준금리 결측치 수: {concat['기준금리'].isnull().sum()}\")"
   ]
  },
  {
   "cell_type": "code",
   "execution_count": null,
   "id": "b10f6fe1",
   "metadata": {},
   "outputs": [],
   "source": []
  },
  {
   "cell_type": "code",
   "execution_count": 243,
   "id": "9b0bd852",
   "metadata": {},
   "outputs": [
    {
     "data": {
      "text/plain": [
       "아파트명             2136\n",
       "전용면적                0\n",
       "계약년월                0\n",
       "층                   0\n",
       "도로명                 0\n",
       "건축면적           876279\n",
       "주차대수           876277\n",
       "좌표X             18548\n",
       "좌표Y             18548\n",
       "target           9272\n",
       "is_test             0\n",
       "구                   0\n",
       "동                   0\n",
       "계약연도                0\n",
       "구매당시 아파트 나이         0\n",
       "기준금리                0\n",
       "dtype: int64"
      ]
     },
     "execution_count": 243,
     "metadata": {},
     "output_type": "execute_result"
    }
   ],
   "source": [
    "concat.isnull().sum()"
   ]
  },
  {
   "cell_type": "markdown",
   "id": "e92e8337",
   "metadata": {},
   "source": [
    "### 버스, 지하철 접근성"
   ]
  },
  {
   "cell_type": "code",
   "execution_count": 244,
   "id": "1fb40944",
   "metadata": {},
   "outputs": [
    {
     "name": "stdout",
     "output_type": "stream",
     "text": [
      "버스 정류장 밀도 계산 중 (500m 반경)...\n"
     ]
    },
    {
     "name": "stderr",
     "output_type": "stream",
     "text": [
      "100%|█████████████████████████████████████████| 113/113 [01:29<00:00,  1.27it/s]\n"
     ]
    },
    {
     "name": "stdout",
     "output_type": "stream",
     "text": [
      "지하철역 밀도 계산 중 (1km 반경)...\n"
     ]
    },
    {
     "name": "stderr",
     "output_type": "stream",
     "text": [
      "100%|█████████████████████████████████████████| 113/113 [01:06<00:00,  1.69it/s]\n"
     ]
    },
    {
     "name": "stdout",
     "output_type": "stream",
     "text": [
      "         좌표X        좌표Y  bus_stop_density_500m  subway_station_density_1km\n",
      "0  127.05721  37.476763                   13.0                         0.0\n",
      "1  127.05721  37.476763                   13.0                         0.0\n",
      "2  127.05721  37.476763                   13.0                         0.0\n",
      "3  127.05721  37.476763                   13.0                         0.0\n",
      "4  127.05721  37.476763                   13.0                         0.0\n"
     ]
    }
   ],
   "source": [
    "import pandas as pd\n",
    "import numpy as np\n",
    "from shapely.geometry import Point\n",
    "import geopandas as gpd\n",
    "from geopandas.tools import sjoin\n",
    "import pyproj\n",
    "from tqdm import tqdm\n",
    "\n",
    "def preprocess_data(df, x_col, y_col):\n",
    "    wgs84 = pyproj.CRS('EPSG:4326')  # WGS84 좌표계 (위도, 경도)\n",
    "    utm_k = pyproj.CRS('EPSG:5179')  # UTM-K 좌표계 (한국)\n",
    "    project = pyproj.Transformer.from_crs(wgs84, utm_k, always_xy=True).transform\n",
    "    \n",
    "    df['geometry'] = df.apply(lambda row: Point(project(row[x_col], row[y_col])), axis=1)\n",
    "    return gpd.GeoDataFrame(df, geometry='geometry', crs=utm_k)\n",
    "\n",
    "def calculate_density(gdf_real_estate, gdf_locations, radius):\n",
    "    gdf_real_estate['buffer'] = gdf_real_estate.geometry.buffer(radius)\n",
    "    \n",
    "    joined = sjoin(gdf_locations, gdf_real_estate.set_geometry('buffer'), how='inner', predicate='within')\n",
    "    \n",
    "    density = joined.groupby(joined.index_right).size().rename('density')\n",
    "    \n",
    "    return gdf_real_estate.join(density, how='left').fillna(0)['density']\n",
    "\n",
    "def process_in_chunks(df, locations_gdf, radius, chunk_size=10000):\n",
    "    results = []\n",
    "    for i in tqdm(range(0, len(df), chunk_size)):\n",
    "        chunk = df.iloc[i:i+chunk_size]\n",
    "        chunk_gdf = preprocess_data(chunk, '좌표X', '좌표Y')\n",
    "        density = calculate_density(chunk_gdf, locations_gdf, radius)\n",
    "        results.append(density)\n",
    "    return pd.concat(results)\n",
    "\n",
    "# 버스 정류장과 지하철역 데이터 전처리\n",
    "bus_gdf = preprocess_data(dt_bus, 'X좌표', 'Y좌표')  # 버스 정류장 좌표계 변환\n",
    "\n",
    "# 지하철 데이터는 위도, 경도 데이터를 X, Y로 변환\n",
    "subway_gdf = preprocess_data(dt_subway, '경도', '위도')  # 지하철 데이터도 동일하게 좌표 변환\n",
    "\n",
    "# 반경 설정\n",
    "bus_radius = 500  # 미터 단위\n",
    "subway_radius = 1000  # 1km를 미터 단위로 표현\n",
    "\n",
    "# 청크 크기 설정\n",
    "chunk_size = 10000\n",
    "\n",
    "print(\"버스 정류장 밀도 계산 중 (500m 반경)...\")\n",
    "concat['bus_stop_density_500m'] = process_in_chunks(concat, bus_gdf, bus_radius, chunk_size)\n",
    "\n",
    "print(\"지하철역 밀도 계산 중 (1km 반경)...\")\n",
    "concat['subway_station_density_1km'] = process_in_chunks(concat, subway_gdf, subway_radius, chunk_size)\n",
    "\n",
    "# 결과 출력\n",
    "print(concat[['좌표X', '좌표Y', 'bus_stop_density_500m', 'subway_station_density_1km']].head())"
   ]
  },
  {
   "cell_type": "code",
   "execution_count": null,
   "id": "32f9be82",
   "metadata": {},
   "outputs": [],
   "source": []
  },
  {
   "cell_type": "code",
   "execution_count": null,
   "id": "d1107192",
   "metadata": {},
   "outputs": [],
   "source": []
  },
  {
   "cell_type": "code",
   "execution_count": null,
   "id": "e0e794af",
   "metadata": {},
   "outputs": [],
   "source": []
  },
  {
   "cell_type": "code",
   "execution_count": null,
   "id": "05de90a0",
   "metadata": {},
   "outputs": [],
   "source": []
  },
  {
   "cell_type": "markdown",
   "id": "9ecdaa84",
   "metadata": {},
   "source": [
    "### 강남 여부"
   ]
  },
  {
   "cell_type": "code",
   "execution_count": 245,
   "id": "c223e521",
   "metadata": {},
   "outputs": [],
   "source": [
    "all = list(concat['구'].unique())\n",
    "gangnam = ['강서구', '영등포구', '동작구', '서초구', '강남구', '송파구', '강동구']\n",
    "gangbuk = [x for x in all if x not in gangnam]\n",
    "\n",
    "assert len(all) == len(gangnam) + len(gangbuk) "
   ]
  },
  {
   "cell_type": "code",
   "execution_count": 246,
   "id": "a0e913a4",
   "metadata": {},
   "outputs": [],
   "source": [
    "# 강남의 여부를 체크합니다.\n",
    "is_gangnam = []\n",
    "for x in concat['구'].tolist() :\n",
    "  if x in gangnam :\n",
    "    is_gangnam.append(1)\n",
    "  else :\n",
    "    is_gangnam.append(0)\n",
    "\n",
    "# 파생변수를 하나 만릅니다.\n",
    "concat['강남여부'] = is_gangnam"
   ]
  },
  {
   "cell_type": "code",
   "execution_count": 247,
   "id": "9557dd97",
   "metadata": {},
   "outputs": [
    {
     "name": "stdout",
     "output_type": "stream",
     "text": [
      "<class 'pandas.core.frame.DataFrame'>\n",
      "Int64Index: 1128094 entries, 0 to 9271\n",
      "Data columns (total 19 columns):\n",
      " #   Column                      Non-Null Count    Dtype  \n",
      "---  ------                      --------------    -----  \n",
      " 0   아파트명                        1125958 non-null  object \n",
      " 1   전용면적                        1128094 non-null  float64\n",
      " 2   계약년월                        1128094 non-null  int32  \n",
      " 3   층                           1128094 non-null  int64  \n",
      " 4   도로명                         1128094 non-null  object \n",
      " 5   건축면적                        251815 non-null   float64\n",
      " 6   주차대수                        251817 non-null   float64\n",
      " 7   좌표X                         1109546 non-null  float64\n",
      " 8   좌표Y                         1109546 non-null  float64\n",
      " 9   target                      1118822 non-null  float64\n",
      " 10  is_test                     1128094 non-null  int64  \n",
      " 11  구                           1128094 non-null  object \n",
      " 12  동                           1128094 non-null  object \n",
      " 13  계약연도                        1128094 non-null  int32  \n",
      " 14  구매당시 아파트 나이                 1128094 non-null  int64  \n",
      " 15  기준금리                        1128094 non-null  float64\n",
      " 16  bus_stop_density_500m       1128094 non-null  float64\n",
      " 17  subway_station_density_1km  1128094 non-null  float64\n",
      " 18  강남여부                        1128094 non-null  int64  \n",
      "dtypes: float64(9), int32(2), int64(4), object(4)\n",
      "memory usage: 163.5+ MB\n"
     ]
    }
   ],
   "source": [
    "concat.info()"
   ]
  },
  {
   "cell_type": "markdown",
   "id": "b06d83c3",
   "metadata": {},
   "source": [
    "# 보간"
   ]
  },
  {
   "cell_type": "code",
   "execution_count": 248,
   "id": "91fd6f86",
   "metadata": {},
   "outputs": [
    {
     "name": "stdout",
     "output_type": "stream",
     "text": [
      "연속형 변수: ['전용면적', '계약년월', '층', '건축면적', '주차대수', '좌표X', '좌표Y', 'target', 'is_test', '계약연도', '구매당시 아파트 나이', '기준금리', 'bus_stop_density_500m', 'subway_station_density_1km', '강남여부']\n",
      "범주형 변수: ['아파트명', '도로명', '구', '동']\n"
     ]
    }
   ],
   "source": [
    "# 먼저, 연속형 변수와 범주형 변수를 위 info에 따라 분리해주겠습니다.\n",
    "continuous_columns = []\n",
    "categorical_columns = []\n",
    "\n",
    "for column in concat.columns:\n",
    "    if pd.api.types.is_numeric_dtype(concat[column]):\n",
    "        continuous_columns.append(column)\n",
    "    else:\n",
    "        categorical_columns.append(column)\n",
    "\n",
    "print(\"연속형 변수:\", continuous_columns)\n",
    "print(\"범주형 변수:\", categorical_columns)"
   ]
  },
  {
   "cell_type": "code",
   "execution_count": 249,
   "id": "1c5788e6",
   "metadata": {},
   "outputs": [],
   "source": [
    "# 범주형 변수에 대한 보간\n",
    "concat[categorical_columns] = concat[categorical_columns].fillna('NULL')\n",
    "\n",
    "# 연속형 변수에 대한 보간 (선형 보간)\n",
    "concat[continuous_columns] = concat[continuous_columns].interpolate(method='linear', axis=0)"
   ]
  },
  {
   "cell_type": "code",
   "execution_count": 250,
   "id": "a8981c6e",
   "metadata": {},
   "outputs": [
    {
     "data": {
      "text/plain": [
       "아파트명                          0\n",
       "전용면적                          0\n",
       "계약년월                          0\n",
       "층                             0\n",
       "도로명                           0\n",
       "건축면적                          0\n",
       "주차대수                          0\n",
       "좌표X                           0\n",
       "좌표Y                           0\n",
       "target                        0\n",
       "is_test                       0\n",
       "구                             0\n",
       "동                             0\n",
       "계약연도                          0\n",
       "구매당시 아파트 나이                   0\n",
       "기준금리                          0\n",
       "bus_stop_density_500m         0\n",
       "subway_station_density_1km    0\n",
       "강남여부                          0\n",
       "dtype: int64"
      ]
     },
     "execution_count": 250,
     "metadata": {},
     "output_type": "execute_result"
    }
   ],
   "source": [
    "concat.isnull().sum()         # 결측치가 보간된 모습을 확인해봅니다."
   ]
  },
  {
   "cell_type": "code",
   "execution_count": 273,
   "id": "374572f4",
   "metadata": {},
   "outputs": [],
   "source": [
    "concat = concat.drop(columns=['좌표X', '좌표Y'])"
   ]
  },
  {
   "cell_type": "code",
   "execution_count": null,
   "id": "3d7c5acd",
   "metadata": {},
   "outputs": [],
   "source": []
  },
  {
   "cell_type": "markdown",
   "id": "517effe2",
   "metadata": {},
   "source": [
    "# 학습"
   ]
  },
  {
   "cell_type": "code",
   "execution_count": 274,
   "id": "429fe174",
   "metadata": {},
   "outputs": [
    {
     "name": "stdout",
     "output_type": "stream",
     "text": [
      "(1118822, 16) (9272, 16)\n"
     ]
    }
   ],
   "source": [
    "# 이제 다시 train과 test dataset을 분할해줍니다. 위에서 제작해 놓았던 is_test 칼럼을 이용합니다.\n",
    "dt_train = concat.query('is_test==0')\n",
    "dt_test = concat.query('is_test==1')\n",
    "\n",
    "# 이제 is_test 칼럼은 drop해줍니다.\n",
    "dt_train.drop(['is_test'], axis = 1, inplace=True)\n",
    "dt_test.drop(['is_test'], axis = 1, inplace=True)\n",
    "print(dt_train.shape, dt_test.shape)"
   ]
  },
  {
   "cell_type": "code",
   "execution_count": 275,
   "id": "586825df",
   "metadata": {},
   "outputs": [],
   "source": [
    "dt_test['target'] = 0"
   ]
  },
  {
   "cell_type": "code",
   "execution_count": 276,
   "id": "7a1a06bc",
   "metadata": {},
   "outputs": [
    {
     "ename": "ValueError",
     "evalue": "list.remove(x): x not in list",
     "output_type": "error",
     "traceback": [
      "\u001b[1;31m---------------------------------------------------------------------------\u001b[0m",
      "\u001b[1;31mValueError\u001b[0m                                Traceback (most recent call last)",
      "Cell \u001b[1;32mIn[276], line 1\u001b[0m\n\u001b[1;32m----> 1\u001b[0m \u001b[43mcategorical_columns\u001b[49m\u001b[38;5;241;43m.\u001b[39;49m\u001b[43mremove\u001b[49m\u001b[43m(\u001b[49m\u001b[38;5;124;43m'\u001b[39;49m\u001b[38;5;124;43m구\u001b[39;49m\u001b[38;5;124;43m'\u001b[39;49m\u001b[43m)\u001b[49m\n\u001b[0;32m      2\u001b[0m categorical_columns\n",
      "\u001b[1;31mValueError\u001b[0m: list.remove(x): x not in list"
     ]
    }
   ],
   "source": [
    "categorical_columns.remove('구')\n",
    "categorical_columns"
   ]
  },
  {
   "cell_type": "markdown",
   "id": "cc08ab7d",
   "metadata": {},
   "source": [
    "## 데이터 변환 및 정규화"
   ]
  },
  {
   "cell_type": "markdown",
   "id": "c305f8e2",
   "metadata": {},
   "source": [
    "### one-hot encoding"
   ]
  },
  {
   "cell_type": "code",
   "execution_count": 277,
   "id": "991a8f46",
   "metadata": {},
   "outputs": [
    {
     "name": "stderr",
     "output_type": "stream",
     "text": [
      "100%|█████████████████████████████████████████████| 3/3 [00:01<00:00,  1.67it/s]\n"
     ]
    }
   ],
   "source": [
    "# 아래에서 범주형 변수들을 대상으로 레이블인코딩을 진행해 주겠습니다.\n",
    "\n",
    "# 각 변수에 대한 LabelEncoder를 저장할 딕셔너리\n",
    "label_encoders = {}\n",
    "\n",
    "# Implement Label Encoding\n",
    "for col in tqdm( categorical_columns):\n",
    "    lbl = LabelEncoder()\n",
    "\n",
    "    # Label-Encoding을 fit\n",
    "    lbl.fit( dt_train[col].astype(str) )\n",
    "    dt_train[col] = lbl.transform(dt_train[col].astype(str))\n",
    "    label_encoders[col] = lbl           # 나중에 후처리를 위해 레이블인코더를 저장해주겠습니다.\n",
    "\n",
    "    # Test 데이터에만 존재하는 새로 출현한 데이터를 신규 클래스로 추가해줍니다.\n",
    "    for label in np.unique(dt_test[col]):\n",
    "      if label not in lbl.classes_: # unseen label 데이터인 경우\n",
    "        lbl.classes_ = np.append(lbl.classes_, label) # 미처리 시 ValueError발생하니 주의하세요!\n",
    "\n",
    "    dt_test[col] = lbl.transform(dt_test[col].astype(str))"
   ]
  },
  {
   "cell_type": "code",
   "execution_count": 278,
   "id": "04831479",
   "metadata": {},
   "outputs": [
    {
     "data": {
      "text/html": [
       "<div>\n",
       "<style scoped>\n",
       "    .dataframe tbody tr th:only-of-type {\n",
       "        vertical-align: middle;\n",
       "    }\n",
       "\n",
       "    .dataframe tbody tr th {\n",
       "        vertical-align: top;\n",
       "    }\n",
       "\n",
       "    .dataframe thead th {\n",
       "        text-align: right;\n",
       "    }\n",
       "</style>\n",
       "<table border=\"1\" class=\"dataframe\">\n",
       "  <thead>\n",
       "    <tr style=\"text-align: right;\">\n",
       "      <th></th>\n",
       "      <th>아파트명</th>\n",
       "      <th>전용면적</th>\n",
       "      <th>계약년월</th>\n",
       "      <th>층</th>\n",
       "      <th>도로명</th>\n",
       "      <th>건축면적</th>\n",
       "      <th>주차대수</th>\n",
       "      <th>target</th>\n",
       "      <th>동</th>\n",
       "      <th>계약연도</th>\n",
       "      <th>...</th>\n",
       "      <th>구_성동구</th>\n",
       "      <th>구_성북구</th>\n",
       "      <th>구_송파구</th>\n",
       "      <th>구_양천구</th>\n",
       "      <th>구_영등포구</th>\n",
       "      <th>구_용산구</th>\n",
       "      <th>구_은평구</th>\n",
       "      <th>구_종로구</th>\n",
       "      <th>구_중구</th>\n",
       "      <th>구_중랑구</th>\n",
       "    </tr>\n",
       "  </thead>\n",
       "  <tbody>\n",
       "    <tr>\n",
       "      <th>0</th>\n",
       "      <td>328</td>\n",
       "      <td>79.97</td>\n",
       "      <td>201712</td>\n",
       "      <td>3</td>\n",
       "      <td>6176</td>\n",
       "      <td>4858.0</td>\n",
       "      <td>262.0</td>\n",
       "      <td>124000.0</td>\n",
       "      <td>8</td>\n",
       "      <td>2017</td>\n",
       "      <td>...</td>\n",
       "      <td>0</td>\n",
       "      <td>0</td>\n",
       "      <td>0</td>\n",
       "      <td>0</td>\n",
       "      <td>0</td>\n",
       "      <td>0</td>\n",
       "      <td>0</td>\n",
       "      <td>0</td>\n",
       "      <td>0</td>\n",
       "      <td>0</td>\n",
       "    </tr>\n",
       "    <tr>\n",
       "      <th>1</th>\n",
       "      <td>328</td>\n",
       "      <td>79.97</td>\n",
       "      <td>201712</td>\n",
       "      <td>4</td>\n",
       "      <td>6176</td>\n",
       "      <td>4858.0</td>\n",
       "      <td>262.0</td>\n",
       "      <td>123500.0</td>\n",
       "      <td>8</td>\n",
       "      <td>2017</td>\n",
       "      <td>...</td>\n",
       "      <td>0</td>\n",
       "      <td>0</td>\n",
       "      <td>0</td>\n",
       "      <td>0</td>\n",
       "      <td>0</td>\n",
       "      <td>0</td>\n",
       "      <td>0</td>\n",
       "      <td>0</td>\n",
       "      <td>0</td>\n",
       "      <td>0</td>\n",
       "    </tr>\n",
       "    <tr>\n",
       "      <th>2</th>\n",
       "      <td>328</td>\n",
       "      <td>54.98</td>\n",
       "      <td>201712</td>\n",
       "      <td>5</td>\n",
       "      <td>6176</td>\n",
       "      <td>4858.0</td>\n",
       "      <td>262.0</td>\n",
       "      <td>91500.0</td>\n",
       "      <td>8</td>\n",
       "      <td>2017</td>\n",
       "      <td>...</td>\n",
       "      <td>0</td>\n",
       "      <td>0</td>\n",
       "      <td>0</td>\n",
       "      <td>0</td>\n",
       "      <td>0</td>\n",
       "      <td>0</td>\n",
       "      <td>0</td>\n",
       "      <td>0</td>\n",
       "      <td>0</td>\n",
       "      <td>0</td>\n",
       "    </tr>\n",
       "    <tr>\n",
       "      <th>3</th>\n",
       "      <td>328</td>\n",
       "      <td>79.97</td>\n",
       "      <td>201801</td>\n",
       "      <td>4</td>\n",
       "      <td>6176</td>\n",
       "      <td>4858.0</td>\n",
       "      <td>262.0</td>\n",
       "      <td>130000.0</td>\n",
       "      <td>8</td>\n",
       "      <td>2018</td>\n",
       "      <td>...</td>\n",
       "      <td>0</td>\n",
       "      <td>0</td>\n",
       "      <td>0</td>\n",
       "      <td>0</td>\n",
       "      <td>0</td>\n",
       "      <td>0</td>\n",
       "      <td>0</td>\n",
       "      <td>0</td>\n",
       "      <td>0</td>\n",
       "      <td>0</td>\n",
       "    </tr>\n",
       "    <tr>\n",
       "      <th>4</th>\n",
       "      <td>328</td>\n",
       "      <td>79.97</td>\n",
       "      <td>201801</td>\n",
       "      <td>2</td>\n",
       "      <td>6176</td>\n",
       "      <td>4858.0</td>\n",
       "      <td>262.0</td>\n",
       "      <td>117000.0</td>\n",
       "      <td>8</td>\n",
       "      <td>2018</td>\n",
       "      <td>...</td>\n",
       "      <td>0</td>\n",
       "      <td>0</td>\n",
       "      <td>0</td>\n",
       "      <td>0</td>\n",
       "      <td>0</td>\n",
       "      <td>0</td>\n",
       "      <td>0</td>\n",
       "      <td>0</td>\n",
       "      <td>0</td>\n",
       "      <td>0</td>\n",
       "    </tr>\n",
       "    <tr>\n",
       "      <th>...</th>\n",
       "      <td>...</td>\n",
       "      <td>...</td>\n",
       "      <td>...</td>\n",
       "      <td>...</td>\n",
       "      <td>...</td>\n",
       "      <td>...</td>\n",
       "      <td>...</td>\n",
       "      <td>...</td>\n",
       "      <td>...</td>\n",
       "      <td>...</td>\n",
       "      <td>...</td>\n",
       "      <td>...</td>\n",
       "      <td>...</td>\n",
       "      <td>...</td>\n",
       "      <td>...</td>\n",
       "      <td>...</td>\n",
       "      <td>...</td>\n",
       "      <td>...</td>\n",
       "      <td>...</td>\n",
       "      <td>...</td>\n",
       "      <td>...</td>\n",
       "    </tr>\n",
       "    <tr>\n",
       "      <th>1118817</th>\n",
       "      <td>215</td>\n",
       "      <td>59.94</td>\n",
       "      <td>200707</td>\n",
       "      <td>11</td>\n",
       "      <td>4816</td>\n",
       "      <td>0.0</td>\n",
       "      <td>366.0</td>\n",
       "      <td>20000.0</td>\n",
       "      <td>21</td>\n",
       "      <td>2007</td>\n",
       "      <td>...</td>\n",
       "      <td>0</td>\n",
       "      <td>0</td>\n",
       "      <td>0</td>\n",
       "      <td>0</td>\n",
       "      <td>0</td>\n",
       "      <td>0</td>\n",
       "      <td>1</td>\n",
       "      <td>0</td>\n",
       "      <td>0</td>\n",
       "      <td>0</td>\n",
       "    </tr>\n",
       "    <tr>\n",
       "      <th>1118818</th>\n",
       "      <td>215</td>\n",
       "      <td>59.94</td>\n",
       "      <td>200708</td>\n",
       "      <td>10</td>\n",
       "      <td>4816</td>\n",
       "      <td>0.0</td>\n",
       "      <td>366.0</td>\n",
       "      <td>20000.0</td>\n",
       "      <td>21</td>\n",
       "      <td>2007</td>\n",
       "      <td>...</td>\n",
       "      <td>0</td>\n",
       "      <td>0</td>\n",
       "      <td>0</td>\n",
       "      <td>0</td>\n",
       "      <td>0</td>\n",
       "      <td>0</td>\n",
       "      <td>1</td>\n",
       "      <td>0</td>\n",
       "      <td>0</td>\n",
       "      <td>0</td>\n",
       "    </tr>\n",
       "    <tr>\n",
       "      <th>1118819</th>\n",
       "      <td>215</td>\n",
       "      <td>84.83</td>\n",
       "      <td>200708</td>\n",
       "      <td>20</td>\n",
       "      <td>4816</td>\n",
       "      <td>0.0</td>\n",
       "      <td>366.0</td>\n",
       "      <td>28000.0</td>\n",
       "      <td>21</td>\n",
       "      <td>2007</td>\n",
       "      <td>...</td>\n",
       "      <td>0</td>\n",
       "      <td>0</td>\n",
       "      <td>0</td>\n",
       "      <td>0</td>\n",
       "      <td>0</td>\n",
       "      <td>0</td>\n",
       "      <td>1</td>\n",
       "      <td>0</td>\n",
       "      <td>0</td>\n",
       "      <td>0</td>\n",
       "    </tr>\n",
       "    <tr>\n",
       "      <th>1118820</th>\n",
       "      <td>215</td>\n",
       "      <td>84.83</td>\n",
       "      <td>200709</td>\n",
       "      <td>8</td>\n",
       "      <td>4816</td>\n",
       "      <td>0.0</td>\n",
       "      <td>366.0</td>\n",
       "      <td>29000.0</td>\n",
       "      <td>21</td>\n",
       "      <td>2007</td>\n",
       "      <td>...</td>\n",
       "      <td>0</td>\n",
       "      <td>0</td>\n",
       "      <td>0</td>\n",
       "      <td>0</td>\n",
       "      <td>0</td>\n",
       "      <td>0</td>\n",
       "      <td>1</td>\n",
       "      <td>0</td>\n",
       "      <td>0</td>\n",
       "      <td>0</td>\n",
       "    </tr>\n",
       "    <tr>\n",
       "      <th>1118821</th>\n",
       "      <td>2177</td>\n",
       "      <td>52.46</td>\n",
       "      <td>200701</td>\n",
       "      <td>5</td>\n",
       "      <td>4783</td>\n",
       "      <td>7354.0</td>\n",
       "      <td>45.0</td>\n",
       "      <td>13250.0</td>\n",
       "      <td>102</td>\n",
       "      <td>2007</td>\n",
       "      <td>...</td>\n",
       "      <td>0</td>\n",
       "      <td>0</td>\n",
       "      <td>0</td>\n",
       "      <td>0</td>\n",
       "      <td>0</td>\n",
       "      <td>0</td>\n",
       "      <td>0</td>\n",
       "      <td>0</td>\n",
       "      <td>1</td>\n",
       "      <td>0</td>\n",
       "    </tr>\n",
       "  </tbody>\n",
       "</table>\n",
       "<p>1118822 rows × 40 columns</p>\n",
       "</div>"
      ],
      "text/plain": [
       "         아파트명   전용면적    계약년월   층   도로명    건축면적   주차대수    target    동  계약연도  \\\n",
       "0         328  79.97  201712   3  6176  4858.0  262.0  124000.0    8  2017   \n",
       "1         328  79.97  201712   4  6176  4858.0  262.0  123500.0    8  2017   \n",
       "2         328  54.98  201712   5  6176  4858.0  262.0   91500.0    8  2017   \n",
       "3         328  79.97  201801   4  6176  4858.0  262.0  130000.0    8  2018   \n",
       "4         328  79.97  201801   2  6176  4858.0  262.0  117000.0    8  2018   \n",
       "...       ...    ...     ...  ..   ...     ...    ...       ...  ...   ...   \n",
       "1118817   215  59.94  200707  11  4816     0.0  366.0   20000.0   21  2007   \n",
       "1118818   215  59.94  200708  10  4816     0.0  366.0   20000.0   21  2007   \n",
       "1118819   215  84.83  200708  20  4816     0.0  366.0   28000.0   21  2007   \n",
       "1118820   215  84.83  200709   8  4816     0.0  366.0   29000.0   21  2007   \n",
       "1118821  2177  52.46  200701   5  4783  7354.0   45.0   13250.0  102  2007   \n",
       "\n",
       "         ...  구_성동구  구_성북구  구_송파구  구_양천구  구_영등포구  구_용산구  구_은평구  구_종로구  구_중구  \\\n",
       "0        ...      0      0      0      0       0      0      0      0     0   \n",
       "1        ...      0      0      0      0       0      0      0      0     0   \n",
       "2        ...      0      0      0      0       0      0      0      0     0   \n",
       "3        ...      0      0      0      0       0      0      0      0     0   \n",
       "4        ...      0      0      0      0       0      0      0      0     0   \n",
       "...      ...    ...    ...    ...    ...     ...    ...    ...    ...   ...   \n",
       "1118817  ...      0      0      0      0       0      0      1      0     0   \n",
       "1118818  ...      0      0      0      0       0      0      1      0     0   \n",
       "1118819  ...      0      0      0      0       0      0      1      0     0   \n",
       "1118820  ...      0      0      0      0       0      0      1      0     0   \n",
       "1118821  ...      0      0      0      0       0      0      0      0     1   \n",
       "\n",
       "         구_중랑구  \n",
       "0            0  \n",
       "1            0  \n",
       "2            0  \n",
       "3            0  \n",
       "4            0  \n",
       "...        ...  \n",
       "1118817      0  \n",
       "1118818      0  \n",
       "1118819      0  \n",
       "1118820      0  \n",
       "1118821      0  \n",
       "\n",
       "[1118822 rows x 40 columns]"
      ]
     },
     "execution_count": 278,
     "metadata": {},
     "output_type": "execute_result"
    }
   ],
   "source": [
    "# one-hot 인코딩\n",
    "categorical_columns_1 = ['구']\n",
    "dt_train = pd.get_dummies(dt_train, columns=categorical_columns_1, drop_first=False)\n",
    "dt_train"
   ]
  },
  {
   "cell_type": "code",
   "execution_count": 279,
   "id": "9f46a16f",
   "metadata": {},
   "outputs": [
    {
     "data": {
      "text/html": [
       "<div>\n",
       "<style scoped>\n",
       "    .dataframe tbody tr th:only-of-type {\n",
       "        vertical-align: middle;\n",
       "    }\n",
       "\n",
       "    .dataframe tbody tr th {\n",
       "        vertical-align: top;\n",
       "    }\n",
       "\n",
       "    .dataframe thead th {\n",
       "        text-align: right;\n",
       "    }\n",
       "</style>\n",
       "<table border=\"1\" class=\"dataframe\">\n",
       "  <thead>\n",
       "    <tr style=\"text-align: right;\">\n",
       "      <th></th>\n",
       "      <th>아파트명</th>\n",
       "      <th>전용면적</th>\n",
       "      <th>계약년월</th>\n",
       "      <th>층</th>\n",
       "      <th>도로명</th>\n",
       "      <th>건축면적</th>\n",
       "      <th>주차대수</th>\n",
       "      <th>target</th>\n",
       "      <th>동</th>\n",
       "      <th>계약연도</th>\n",
       "      <th>...</th>\n",
       "      <th>구_성동구</th>\n",
       "      <th>구_성북구</th>\n",
       "      <th>구_송파구</th>\n",
       "      <th>구_양천구</th>\n",
       "      <th>구_영등포구</th>\n",
       "      <th>구_용산구</th>\n",
       "      <th>구_은평구</th>\n",
       "      <th>구_종로구</th>\n",
       "      <th>구_중구</th>\n",
       "      <th>구_중랑구</th>\n",
       "    </tr>\n",
       "  </thead>\n",
       "  <tbody>\n",
       "    <tr>\n",
       "      <th>0</th>\n",
       "      <td>328</td>\n",
       "      <td>79.9700</td>\n",
       "      <td>202307</td>\n",
       "      <td>5</td>\n",
       "      <td>6176</td>\n",
       "      <td>4858.00</td>\n",
       "      <td>262.0</td>\n",
       "      <td>0</td>\n",
       "      <td>8</td>\n",
       "      <td>2023</td>\n",
       "      <td>...</td>\n",
       "      <td>0</td>\n",
       "      <td>0</td>\n",
       "      <td>0</td>\n",
       "      <td>0</td>\n",
       "      <td>0</td>\n",
       "      <td>0</td>\n",
       "      <td>0</td>\n",
       "      <td>0</td>\n",
       "      <td>0</td>\n",
       "      <td>0</td>\n",
       "    </tr>\n",
       "    <tr>\n",
       "      <th>1</th>\n",
       "      <td>329</td>\n",
       "      <td>108.2017</td>\n",
       "      <td>202308</td>\n",
       "      <td>10</td>\n",
       "      <td>469</td>\n",
       "      <td>2724.46</td>\n",
       "      <td>305.0</td>\n",
       "      <td>0</td>\n",
       "      <td>8</td>\n",
       "      <td>2023</td>\n",
       "      <td>...</td>\n",
       "      <td>0</td>\n",
       "      <td>0</td>\n",
       "      <td>0</td>\n",
       "      <td>0</td>\n",
       "      <td>0</td>\n",
       "      <td>0</td>\n",
       "      <td>0</td>\n",
       "      <td>0</td>\n",
       "      <td>0</td>\n",
       "      <td>0</td>\n",
       "    </tr>\n",
       "  </tbody>\n",
       "</table>\n",
       "<p>2 rows × 40 columns</p>\n",
       "</div>"
      ],
      "text/plain": [
       "   아파트명      전용면적    계약년월   층   도로명     건축면적   주차대수  target  동  계약연도  ...  \\\n",
       "0   328   79.9700  202307   5  6176  4858.00  262.0       0  8  2023  ...   \n",
       "1   329  108.2017  202308  10   469  2724.46  305.0       0  8  2023  ...   \n",
       "\n",
       "   구_성동구  구_성북구  구_송파구  구_양천구  구_영등포구  구_용산구  구_은평구  구_종로구  구_중구  구_중랑구  \n",
       "0      0      0      0      0       0      0      0      0     0      0  \n",
       "1      0      0      0      0       0      0      0      0     0      0  \n",
       "\n",
       "[2 rows x 40 columns]"
      ]
     },
     "execution_count": 279,
     "metadata": {},
     "output_type": "execute_result"
    }
   ],
   "source": [
    "categorical_columns_1 = ['구']\n",
    "dt_test = pd.get_dummies(dt_test, columns=categorical_columns_1, drop_first=False)\n",
    "dt_test.head(2)"
   ]
  },
  {
   "cell_type": "code",
   "execution_count": null,
   "id": "70059181",
   "metadata": {},
   "outputs": [],
   "source": []
  },
  {
   "cell_type": "markdown",
   "id": "2bef8f17",
   "metadata": {},
   "source": [
    "### 정규화"
   ]
  },
  {
   "cell_type": "code",
   "execution_count": 258,
   "id": "f20d31d2",
   "metadata": {},
   "outputs": [],
   "source": [
    "#from sklearn.preprocessing import StandardScaler, MinMaxScaler\n",
    "# 연속형 변수 정규화\n",
    "#scaler = StandardScaler()\n",
    "#concat[continuous_columns] = scaler.fit_transform(concat[continuous_columns])"
   ]
  },
  {
   "cell_type": "code",
   "execution_count": null,
   "id": "a785b0b3",
   "metadata": {},
   "outputs": [],
   "source": []
  },
  {
   "cell_type": "code",
   "execution_count": null,
   "id": "4fb73556",
   "metadata": {},
   "outputs": [],
   "source": []
  },
  {
   "cell_type": "markdown",
   "id": "ccf5257d",
   "metadata": {},
   "source": [
    "- 특이 저가 거래 drop시키기"
   ]
  },
  {
   "cell_type": "code",
   "execution_count": null,
   "id": "749dafad",
   "metadata": {},
   "outputs": [],
   "source": []
  },
  {
   "cell_type": "markdown",
   "id": "cc8e873f",
   "metadata": {},
   "source": [
    "# EDA"
   ]
  },
  {
   "cell_type": "code",
   "execution_count": 280,
   "id": "9b190e16",
   "metadata": {},
   "outputs": [
    {
     "data": {
      "image/png": "[encoded data removed]",
      "text/plain": [
       "<Figure size 1000x800 with 2 Axes>"
      ]
     },
     "metadata": {},
     "output_type": "display_data"
    }
   ],
   "source": [
    "# 상관계수 행렬 계산\n",
    "corr_matrix = concat.corr()\n",
    "\n",
    "# 상관계수 행렬 히트맵 그리기\n",
    "plt.figure(figsize=(10, 8))\n",
    "sns.heatmap(corr_matrix, annot=True, cmap='coolwarm', linewidths=0.5)\n",
    "\n",
    "# 결과 출력\n",
    "plt.show()"
   ]
  },
  {
   "cell_type": "code",
   "execution_count": null,
   "id": "90893954",
   "metadata": {},
   "outputs": [],
   "source": []
  },
  {
   "cell_type": "code",
   "execution_count": null,
   "id": "c8e5e1bd",
   "metadata": {},
   "outputs": [],
   "source": []
  },
  {
   "cell_type": "code",
   "execution_count": null,
   "id": "a4b3d8c7",
   "metadata": {},
   "outputs": [],
   "source": []
  },
  {
   "cell_type": "markdown",
   "id": "a09852cf",
   "metadata": {},
   "source": [
    "# 모델 학습"
   ]
  },
  {
   "cell_type": "code",
   "execution_count": 260,
   "id": "6fef8fd4",
   "metadata": {},
   "outputs": [],
   "source": [
    "# 기준금리와 다른 변수 간 상호작용 변수 추가 (예: 기준금리와 주택 면적의 상호작용)\n",
    "#dt_train['기준금리와날짜'] = dt_train['기준금리'] * dt_train['계약년월']\n",
    "#dt_test['기준금리와날짜'] = dt_test['기준금리'] * dt_test['계약년월']"
   ]
  },
  {
   "cell_type": "code",
   "execution_count": 281,
   "id": "b3ab7fe6",
   "metadata": {},
   "outputs": [],
   "source": [
    "# 같음\n",
    "assert dt_train.shape[1] == dt_test.shape[1]"
   ]
  },
  {
   "cell_type": "code",
   "execution_count": 282,
   "id": "430911d3",
   "metadata": {},
   "outputs": [],
   "source": [
    "# Target과 독립변수들을 분리해줍니다.\n",
    "y_train = dt_train['target']\n",
    "X_train = dt_train.drop(['target'], axis=1)\n",
    "\n",
    "# Hold out split을 사용해 학습 데이터와 검증 데이터를 8:2 비율로 나누겠습니다.\n",
    "X_train, X_val, y_train, y_val = train_test_split(X_train, y_train, test_size=0.2, random_state=2023)"
   ]
  },
  {
   "cell_type": "code",
   "execution_count": 283,
   "id": "0db71bf3",
   "metadata": {},
   "outputs": [],
   "source": [
    "# 파생 변수가 생성되었는지 확인\n",
    "#print(dt_train[['기준금리','기준금리와날짜']].head())\n"
   ]
  },
  {
   "cell_type": "markdown",
   "id": "f4e1f77c",
   "metadata": {},
   "source": [
    "- 비선형 모델"
   ]
  },
  {
   "cell_type": "code",
   "execution_count": 284,
   "id": "b61281f1",
   "metadata": {},
   "outputs": [],
   "source": [
    "# RandomForestRegressor를 이용해 회귀 모델을 적합시키겠습니다.\n",
    "model = RandomForestRegressor(n_estimators=5, criterion='squared_error', random_state=1, n_jobs=-1)\n",
    "model.fit(X_train, y_train)\n",
    "pred = model.predict(X_val)"
   ]
  },
  {
   "cell_type": "code",
   "execution_count": 285,
   "id": "ec84a403",
   "metadata": {
    "scrolled": true
   },
   "outputs": [
    {
     "name": "stdout",
     "output_type": "stream",
     "text": [
      "RMSE test: 8396.787948470368\n"
     ]
    }
   ],
   "source": [
    "# 회귀 관련 metric을 통해 train/valid의 모델 적합 결과를 관찰합니다.\n",
    "print(f'RMSE test: {np.sqrt(metrics.mean_squared_error(y_val, pred))}')"
   ]
  },
  {
   "cell_type": "code",
   "execution_count": 286,
   "id": "696117c2",
   "metadata": {
    "scrolled": true
   },
   "outputs": [
    {
     "data": {
      "image/png": "[encoded data removed]",
      "text/plain": [
       "<Figure size 1000x800 with 1 Axes>"
      ]
     },
     "metadata": {},
     "output_type": "display_data"
    }
   ],
   "source": [
    "# 위 feature importance를 시각화해봅니다.\n",
    "importances = pd.Series(model.feature_importances_, index=list(X_train.columns))\n",
    "importances = importances.sort_values(ascending=False)\n",
    "\n",
    "plt.figure(figsize=(10,8))\n",
    "plt.title(\"Feature Importances\")\n",
    "sns.barplot(x=importances, y=importances.index)\n",
    "plt.show()"
   ]
  },
  {
   "cell_type": "code",
   "execution_count": null,
   "id": "ed63cd15",
   "metadata": {},
   "outputs": [],
   "source": []
  },
  {
   "cell_type": "markdown",
   "id": "b8373878",
   "metadata": {},
   "source": [
    "- 다른 모델 확인"
   ]
  },
  {
   "cell_type": "code",
   "execution_count": null,
   "id": "cd7d0d6c",
   "metadata": {},
   "outputs": [],
   "source": []
  },
  {
   "cell_type": "markdown",
   "id": "cc79f9b7",
   "metadata": {},
   "source": [
    "from sklearn.ensemble import GradientBoostingRegressor\n",
    "import xgboost as xgb\n",
    "from catboost import CatBoostRegressor\n",
    "import lightgbm as lgb"
   ]
  },
  {
   "cell_type": "markdown",
   "id": "cac2f8ad",
   "metadata": {},
   "source": [
    "# XGBoost Regressor\n",
    "xgboost_model = xgb.XGBRegressor(n_estimators=100, learning_rate=0.1, random_state=1, n_jobs=-1)\n",
    "xgboost_model.fit(X_train, y_train)\n",
    "xgboost_pred = xgboost_model.predict(X_val)\n",
    "xgboost_rmse = np.sqrt(mean_squared_error(y_val, xgboost_pred))\n",
    "print(f\"XGBoost RMSE: {xgboost_rmse}\")"
   ]
  },
  {
   "cell_type": "markdown",
   "id": "624ef9f4",
   "metadata": {},
   "source": [
    "# CatBoost Regressor\n",
    "catboost_model = CatBoostRegressor(iterations=100, learning_rate=0.1, random_seed=1, verbose=0)\n",
    "catboost_model.fit(X_train, y_train)\n",
    "catboost_pred = catboost_model.predict(X_val)\n",
    "catboost_rmse = np.sqrt(mean_squared_error(y_val, catboost_pred))\n",
    "print(f\"CatBoost RMSE: {catboost_rmse}\")"
   ]
  },
  {
   "cell_type": "markdown",
   "id": "3566f9ac",
   "metadata": {},
   "source": [
    "# LightGBM Regressor\n",
    "lightgbm_model = lgb.LGBMRegressor(n_estimators=100, learning_rate=0.1, random_state=1)\n",
    "lightgbm_model.fit(X_train, y_train)\n",
    "lightgbm_pred = lightgbm_model.predict(X_val)\n",
    "lightgbm_rmse = np.sqrt(mean_squared_error(y_val, lightgbm_pred))\n",
    "print(f\"LightGBM RMSE: {lightgbm_rmse}\")"
   ]
  },
  {
   "cell_type": "markdown",
   "id": "a8470ebe",
   "metadata": {},
   "source": [
    "#GradientBoostingRegressor\n",
    "from sklearn.ensemble import GradientBoostingRegressor\n",
    "gbr_model = GradientBoostingRegressor(n_estimators=100, learning_rate=0.1, random_state=1)\n",
    "gbr_model.fit(X_train, y_train)\n",
    "gbr_pred = gbr_model.predict(X_val)\n",
    "gbr_rmse = np.sqrt(mean_squared_error(y_val, gbr_pred))\n",
    "print(f\"gbr RMSE: {gbr_rmse}\")"
   ]
  },
  {
   "cell_type": "markdown",
   "id": "ac978a92",
   "metadata": {},
   "source": [
    "- 선형 모델"
   ]
  },
  {
   "cell_type": "markdown",
   "id": "c040da72",
   "metadata": {},
   "source": [
    "from sklearn.linear_model import LinearRegression, Ridge, Lasso\n",
    "#Linear 모델\n",
    "model = LinearRegression()\n",
    "model.fit(X_train, y_train)\n",
    "pred = model.predict(X_val)"
   ]
  },
  {
   "cell_type": "markdown",
   "id": "47e10364",
   "metadata": {},
   "source": [
    "#Ridge 모델\n",
    "model = Ridge(alpha=1.0)\n",
    "model.fit(X_train, y_train)\n",
    "pred = model.predict(X_val)"
   ]
  },
  {
   "cell_type": "markdown",
   "id": "9775ddbc",
   "metadata": {},
   "source": [
    "#Lasso 모델\n",
    "model = Lasso(alpha=0.1)\n",
    "model.fit(X_train, y_train)\n",
    "pred = model.predict(X_val)"
   ]
  },
  {
   "cell_type": "code",
   "execution_count": null,
   "id": "7377acdc",
   "metadata": {},
   "outputs": [],
   "source": []
  },
  {
   "cell_type": "code",
   "execution_count": null,
   "id": "db816fde",
   "metadata": {},
   "outputs": [],
   "source": []
  },
  {
   "cell_type": "code",
   "execution_count": null,
   "id": "a5d821b5",
   "metadata": {},
   "outputs": [],
   "source": []
  },
  {
   "cell_type": "code",
   "execution_count": null,
   "id": "3777c02b",
   "metadata": {},
   "outputs": [],
   "source": []
  },
  {
   "cell_type": "markdown",
   "id": "37c4669a",
   "metadata": {},
   "source": [
    "# 결과 확인 및 추출"
   ]
  },
  {
   "cell_type": "code",
   "execution_count": 287,
   "id": "d6461c80",
   "metadata": {},
   "outputs": [],
   "source": [
    "# 학습된 모델을 저장합니다. Pickle 라이브러리를 이용하겠습니다.\n",
    "with open('saved_model.pkl', 'wb') as f:\n",
    "    pickle.dump(model, f)"
   ]
  },
  {
   "cell_type": "code",
   "execution_count": 288,
   "id": "d9ea627b",
   "metadata": {},
   "outputs": [
    {
     "data": {
      "text/html": [
       "<div>\n",
       "<style scoped>\n",
       "    .dataframe tbody tr th:only-of-type {\n",
       "        vertical-align: middle;\n",
       "    }\n",
       "\n",
       "    .dataframe tbody tr th {\n",
       "        vertical-align: top;\n",
       "    }\n",
       "\n",
       "    .dataframe thead th {\n",
       "        text-align: right;\n",
       "    }\n",
       "</style>\n",
       "<table border=\"1\" class=\"dataframe\">\n",
       "  <thead>\n",
       "    <tr style=\"text-align: right;\">\n",
       "      <th></th>\n",
       "      <th>아파트명</th>\n",
       "      <th>전용면적</th>\n",
       "      <th>계약년월</th>\n",
       "      <th>층</th>\n",
       "      <th>도로명</th>\n",
       "      <th>건축면적</th>\n",
       "      <th>주차대수</th>\n",
       "      <th>target</th>\n",
       "      <th>동</th>\n",
       "      <th>계약연도</th>\n",
       "      <th>...</th>\n",
       "      <th>구_성동구</th>\n",
       "      <th>구_성북구</th>\n",
       "      <th>구_송파구</th>\n",
       "      <th>구_양천구</th>\n",
       "      <th>구_영등포구</th>\n",
       "      <th>구_용산구</th>\n",
       "      <th>구_은평구</th>\n",
       "      <th>구_종로구</th>\n",
       "      <th>구_중구</th>\n",
       "      <th>구_중랑구</th>\n",
       "    </tr>\n",
       "  </thead>\n",
       "  <tbody>\n",
       "    <tr>\n",
       "      <th>0</th>\n",
       "      <td>328</td>\n",
       "      <td>79.9700</td>\n",
       "      <td>202307</td>\n",
       "      <td>5</td>\n",
       "      <td>6176</td>\n",
       "      <td>4858.00</td>\n",
       "      <td>262.0</td>\n",
       "      <td>0</td>\n",
       "      <td>8</td>\n",
       "      <td>2023</td>\n",
       "      <td>...</td>\n",
       "      <td>0</td>\n",
       "      <td>0</td>\n",
       "      <td>0</td>\n",
       "      <td>0</td>\n",
       "      <td>0</td>\n",
       "      <td>0</td>\n",
       "      <td>0</td>\n",
       "      <td>0</td>\n",
       "      <td>0</td>\n",
       "      <td>0</td>\n",
       "    </tr>\n",
       "    <tr>\n",
       "      <th>1</th>\n",
       "      <td>329</td>\n",
       "      <td>108.2017</td>\n",
       "      <td>202308</td>\n",
       "      <td>10</td>\n",
       "      <td>469</td>\n",
       "      <td>2724.46</td>\n",
       "      <td>305.0</td>\n",
       "      <td>0</td>\n",
       "      <td>8</td>\n",
       "      <td>2023</td>\n",
       "      <td>...</td>\n",
       "      <td>0</td>\n",
       "      <td>0</td>\n",
       "      <td>0</td>\n",
       "      <td>0</td>\n",
       "      <td>0</td>\n",
       "      <td>0</td>\n",
       "      <td>0</td>\n",
       "      <td>0</td>\n",
       "      <td>0</td>\n",
       "      <td>0</td>\n",
       "    </tr>\n",
       "  </tbody>\n",
       "</table>\n",
       "<p>2 rows × 40 columns</p>\n",
       "</div>"
      ],
      "text/plain": [
       "   아파트명      전용면적    계약년월   층   도로명     건축면적   주차대수  target  동  계약연도  ...  \\\n",
       "0   328   79.9700  202307   5  6176  4858.00  262.0       0  8  2023  ...   \n",
       "1   329  108.2017  202308  10   469  2724.46  305.0       0  8  2023  ...   \n",
       "\n",
       "   구_성동구  구_성북구  구_송파구  구_양천구  구_영등포구  구_용산구  구_은평구  구_종로구  구_중구  구_중랑구  \n",
       "0      0      0      0      0       0      0      0      0     0      0  \n",
       "1      0      0      0      0       0      0      0      0     0      0  \n",
       "\n",
       "[2 rows x 40 columns]"
      ]
     },
     "execution_count": 288,
     "metadata": {},
     "output_type": "execute_result"
    }
   ],
   "source": [
    "dt_test.head(2)"
   ]
  },
  {
   "cell_type": "code",
   "execution_count": 289,
   "id": "844eeec0",
   "metadata": {},
   "outputs": [],
   "source": [
    "# 저장된 모델을 불러옵니다.\n",
    "with open('saved_model.pkl', 'rb') as f:\n",
    "    model = pickle.load(f)"
   ]
  },
  {
   "cell_type": "code",
   "execution_count": 290,
   "id": "8f920e68",
   "metadata": {},
   "outputs": [
    {
     "name": "stdout",
     "output_type": "stream",
     "text": [
      "CPU times: total: 0 ns\n",
      "Wall time: 13.9 ms\n"
     ]
    }
   ],
   "source": [
    "%%time\n",
    "X_test = dt_test.drop(['target'], axis=1)\n",
    "\n",
    "# Test dataset에 대한 inference를 진행합니다.\n",
    "real_test_pred = model.predict(X_test)"
   ]
  },
  {
   "cell_type": "code",
   "execution_count": 291,
   "id": "936d6940",
   "metadata": {},
   "outputs": [
    {
     "data": {
      "text/plain": [
       "array([190900., 286700., 359600., ..., 105300.,  69600.,  78130.])"
      ]
     },
     "execution_count": 291,
     "metadata": {},
     "output_type": "execute_result"
    }
   ],
   "source": [
    "real_test_pred"
   ]
  },
  {
   "cell_type": "code",
   "execution_count": 292,
   "id": "e9657e35",
   "metadata": {},
   "outputs": [],
   "source": [
    "# 앞서 예측한 예측값들을 저장합니다.\n",
    "preds_df = pd.DataFrame(real_test_pred.astype(int), columns=[\"target\"])\n",
    "preds_df.to_csv('output.csv', index=False)"
   ]
  },
  {
   "cell_type": "code",
   "execution_count": null,
   "id": "291730ed",
   "metadata": {},
   "outputs": [],
   "source": []
  }
 ],
 "metadata": {
  "kernelspec": {
   "display_name": "Python 3 (ipykernel)",
   "language": "python",
   "name": "python3"
  },
  "language_info": {
   "codemirror_mode": {
    "name": "ipython",
    "version": 3
   },
   "file_extension": ".py",
   "mimetype": "text/x-python",
   "name": "python",
   "nbconvert_exporter": "python",
   "pygments_lexer": "ipython3",
   "version": "3.10.11"
  },
  "toc": {
   "base_numbering": 1,
   "nav_menu": {},
   "number_sections": true,
   "sideBar": true,
   "skip_h1_title": false,
   "title_cell": "Table of Contents",
   "title_sidebar": "Contents",
   "toc_cell": false,
   "toc_position": {},
   "toc_section_display": true,
   "toc_window_display": false
  }
 },
 "nbformat": 4,
 "nbformat_minor": 5
}
